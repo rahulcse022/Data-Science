{
 "cells": [
  {
   "cell_type": "markdown",
   "metadata": {},
   "source": [
    "# States"
   ]
  },
  {
   "cell_type": "code",
   "execution_count": 25,
   "metadata": {},
   "outputs": [],
   "source": [
    "import random\n",
    "import math"
   ]
  },
  {
   "cell_type": "code",
   "execution_count": 8,
   "metadata": {},
   "outputs": [
    {
     "name": "stdout",
     "output_type": "stream",
     "text": [
      "Enter number of items : 100\n",
      "Enter lowest value : 25\n",
      "Enter highest value : 75\n",
      "[28, 32, 36, 55, 29, 52, 25, 43, 47, 70, 25, 33, 29, 53, 40, 60, 34, 67, 44, 57, 67, 33, 37, 66, 44, 31, 38, 59, 73, 30, 72, 57, 71, 69, 73, 68, 75, 46, 33, 45, 47, 66, 38, 55, 39, 43, 70, 71, 75, 63, 62, 51, 33, 55, 47, 39, 30, 74, 44, 27, 33, 73, 41, 29, 72, 74, 64, 25, 47, 57, 41, 62, 74, 48, 59, 66, 40, 41, 41, 54, 37, 75, 51, 48, 43, 27, 25, 25, 69, 41, 26, 35, 38, 65, 70, 61, 42, 40, 73, 53]\n"
     ]
    }
   ],
   "source": [
    "# Data Collection \n",
    "N = int(input(\"Enter number of items : \"))\n",
    "lower = int(input(\"Enter lowest value : \"))\n",
    "higher = int(input(\"Enter highest value : \"))\n",
    "data = [ random.randint(lower,higher) for var in range(N) ]\n",
    "print(data) "
   ]
  },
  {
   "cell_type": "markdown",
   "metadata": {},
   "source": [
    "## First step of classification sort the data"
   ]
  },
  {
   "cell_type": "code",
   "execution_count": 9,
   "metadata": {},
   "outputs": [
    {
     "name": "stdout",
     "output_type": "stream",
     "text": [
      "[25, 25, 25, 25, 25, 26, 27, 27, 28, 29, 29, 29, 30, 30, 31, 32, 33, 33, 33, 33, 33, 34, 35, 36, 37, 37, 38, 38, 38, 39, 39, 40, 40, 40, 41, 41, 41, 41, 41, 42, 43, 43, 43, 44, 44, 44, 45, 46, 47, 47, 47, 47, 48, 48, 51, 51, 52, 53, 53, 54, 55, 55, 55, 57, 57, 57, 59, 59, 60, 61, 62, 62, 63, 64, 65, 66, 66, 66, 67, 67, 68, 69, 69, 70, 70, 70, 71, 71, 72, 72, 73, 73, 73, 73, 74, 74, 74, 75, 75, 75]\n"
     ]
    }
   ],
   "source": [
    "data.sort() # sort the data\n",
    "print(data)\n",
    "# now we are able to tell minimum and maximum data point "
   ]
  },
  {
   "cell_type": "markdown",
   "metadata": {},
   "source": [
    "#### Continous Frequency Distribution \n",
    "\n",
    "####  we need N(total number of observation ), k(no of classes), c(width of class),\n",
    "#####  R (Range) \n"
   ]
  },
  {
   "cell_type": "markdown",
   "metadata": {},
   "source": [
    "#### Range  \n",
    "\n",
    "$$ \\text{R} = \\text{Higher} - \\text{Lower} $$ \n",
    "\n",
    "#### No of Classes \n",
    "\n",
    "$$ k = 1 + 3.322 * \\log_{10} \\big( N \\big) $$\n",
    "\n",
    "#### Class Width \n",
    "\n",
    "$$  c = \\frac {R} {  1 + 3.322 * \\log_{10} \\big( N \\big)  } $$"
   ]
  },
  {
   "cell_type": "markdown",
   "metadata": {},
   "source": [
    "## Find R, N, K, C"
   ]
  },
  {
   "cell_type": "code",
   "execution_count": 30,
   "metadata": {},
   "outputs": [
    {
     "name": "stdout",
     "output_type": "stream",
     "text": [
      "No of Observation N  :  100\n",
      "Range R              :  50\n",
      "No of Classess K     :  7.644\n",
      "Width of a class     :  6.541077969649398\n"
     ]
    }
   ],
   "source": [
    "minimum = min(data)\n",
    "maximum = max(data)\n",
    "R = maximum - minimum  # R is the Range of Data\n",
    "N = N \n",
    "K = 1 + (3.322*math.log10(N))\n",
    "C = R / k \n",
    "#############\n",
    "print(\"No of Observation N  : \",N)\n",
    "print(\"Range R              : \",R)\n",
    "print(\"No of Classess K     : \",K)\n",
    "print(\"Width of a class     : \",C)"
   ]
  },
  {
   "cell_type": "code",
   "execution_count": 33,
   "metadata": {},
   "outputs": [
    {
     "data": {
      "text/plain": [
       "[([25, 32], 15),\n",
       " ([32, 39], 14),\n",
       " ([39, 46], 18),\n",
       " ([46, 53], 10),\n",
       " ([53, 60], 11),\n",
       " ([60, 67], 10),\n",
       " ([67, 74], 16),\n",
       " ([74, 81], 6)]"
      ]
     },
     "execution_count": 33,
     "metadata": {},
     "output_type": "execute_result"
    }
   ],
   "source": [
    "classes = []\n",
    "lower = minimum\n",
    "for var in range(math.ceil(k)) :\n",
    "    upper = lower + math.ceil(c)\n",
    "    tmp = [ lower,upper]\n",
    "    freq = 0 \n",
    "    for item in range(lower,upper) :\n",
    "        freq += data.count(item)\n",
    "    lower = lower + math.ceil(c)\n",
    "    classes.append((tmp,freq))\n",
    "classes"
   ]
  },
  {
   "cell_type": "code",
   "execution_count": 34,
   "metadata": {},
   "outputs": [
    {
     "name": "stdout",
     "output_type": "stream",
     "text": [
      "**********************************************************************\n",
      "**********************************************************************\n",
      "______________________________________________________________________\n",
      "\t\t__________________________________________________\n",
      "\t\t|\t        25-32        |        15\t|\n",
      "\t\t__________________________________________________\n",
      "\t\t__________________________________________________\n",
      "\t\t|\t        32-39        |        14\t|\n",
      "\t\t__________________________________________________\n",
      "\t\t__________________________________________________\n",
      "\t\t|\t        39-46        |        18\t|\n",
      "\t\t__________________________________________________\n",
      "\t\t__________________________________________________\n",
      "\t\t|\t        46-53        |        10\t|\n",
      "\t\t__________________________________________________\n",
      "\t\t__________________________________________________\n",
      "\t\t|\t        53-60        |        11\t|\n",
      "\t\t__________________________________________________\n",
      "\t\t__________________________________________________\n",
      "\t\t|\t        60-67        |        10\t|\n",
      "\t\t__________________________________________________\n",
      "\t\t__________________________________________________\n",
      "\t\t|\t        67-74        |        16\t|\n",
      "\t\t__________________________________________________\n",
      "\t\t__________________________________________________\n",
      "\t\t|\t        74-81        |         6\t|\n",
      "\t\t__________________________________________________\n",
      "______________________________________________________________________\n",
      "**********************************************************************\n",
      "**********************************************************************\n"
     ]
    }
   ],
   "source": [
    "print(\"*\"*70)\n",
    "print(\"*\"*70)\n",
    "print(\"_\"*70)\n",
    "\n",
    "for cls,freq in classes :\n",
    "    print(\"\\t\\t\",end='')\n",
    "    print(\"_\"*50)\n",
    "    print(f\"\\t\\t|\\t{cls[0]:>10}-{cls[1]:<10}|{freq:>10}\\t|\")\n",
    "    print(\"\\t\\t\",end='')\n",
    "    print(\"_\"*50)\n",
    "\n",
    "print(\"_\"*70)\n",
    "print(\"*\"*70)\n",
    "print(\"*\"*70)"
   ]
  },
  {
   "cell_type": "markdown",
   "metadata": {},
   "source": [
    "## Count Total Freq. "
   ]
  },
  {
   "cell_type": "code",
   "execution_count": 38,
   "metadata": {},
   "outputs": [
    {
     "name": "stdout",
     "output_type": "stream",
     "text": [
      "Data not Lost\n"
     ]
    }
   ],
   "source": [
    "total = 0  ## if total freq if equal to Total number of observation means our data not lost\n",
    "for cls, freq in classes : \n",
    "    total += freq\n",
    "if total == N:\n",
    "    print(\"Data not Lost\")\n",
    "else:\n",
    "    print(\"Data lost\")\n"
   ]
  },
  {
   "cell_type": "code",
   "execution_count": 35,
   "metadata": {},
   "outputs": [
    {
     "name": "stdout",
     "output_type": "stream",
     "text": [
      "Writing continous_frequency_dist.py\n"
     ]
    }
   ],
   "source": [
    "%%writefile continous_frequency_dist.py  # this line create .py file on working directory\n",
    "import math \n",
    "import random\n",
    "# Data Collection \n",
    "N = int(input(\"Enter number of items : \"))\n",
    "minimum = eval(input(\"Enter lowest value : \"))\n",
    "maximum = eval(input(\"Enter maximum value : \"))\n",
    "data = [ random.randint(minimum,maximum) for var in range(N) ]\n",
    "print(data)\n",
    "\n",
    "R = maximum - minimum\n",
    "N = N \n",
    "k = 1 + (3.322*math.log10(N))\n",
    "c = R / k \n",
    "print(\"No of Observation N  : \",N)\n",
    "print(\"Range R : \",R)\n",
    "print(\"No of Classess k :  \",k)\n",
    "print(\"Width of a class : \",c)\n",
    "\n",
    "classes = []\n",
    "lower = minimum\n",
    "for var in range(math.ceil(k)) :\n",
    "    upper = lower + math.ceil(c)\n",
    "    tmp = [ lower,upper]\n",
    "    freq = 0 \n",
    "    for item in range(lower,upper) :\n",
    "        freq += data.count(item)\n",
    "    lower = lower + math.ceil(c)\n",
    "    classes.append((tmp,freq))\n",
    "\n",
    "print(\"*\"*70)\n",
    "print(\"*\"*70)\n",
    "print(\"_\"*70)\n",
    "\n",
    "for cls,freq in classes :\n",
    "    print(\"\\t\\t\",end='')\n",
    "    print(\"_\"*50)\n",
    "    print(f\"\\t\\t|\\t{cls[0]:>10}-{cls[1]:<10}|{freq:>10}\\t|\")\n",
    "    print(\"\\t\\t\",end='')\n",
    "    print(\"_\"*50)\n",
    "\n",
    "print(\"_\"*70)\n",
    "print(\"*\"*70)\n",
    "print(\"*\"*70)\n",
    "\n",
    "total = 0  ## if total freq if equal to Total number of observation means our data not lost\n",
    "for cls, freq in classes : \n",
    "    total += freq\n",
    "if total == N:\n",
    "    print(\"Data not Lost\")\n",
    "else:\n",
    "    print(\"Data lost\")\n"
   ]
  },
  {
   "cell_type": "markdown",
   "metadata": {},
   "source": [
    "## Less than Cumulative Frequency And More than Cumulative Frequency"
   ]
  },
  {
   "cell_type": "code",
   "execution_count": 40,
   "metadata": {},
   "outputs": [
    {
     "name": "stdout",
     "output_type": "stream",
     "text": [
      "**********************************************************************\n",
      "\t _______________________________________________________________\n",
      "        |         X     | \t F      | \t <      | \t >      |\n",
      "\t _______________________________________________________________\n",
      "\t|\t25-32\t|\t15\t|\t15\t|\t100\t|\n",
      "\t _______________________________________________________________\n",
      "\t|\t32-39\t|\t14\t|\t29\t|\t85\t|\n",
      "\t _______________________________________________________________\n",
      "\t|\t39-46\t|\t18\t|\t47\t|\t71\t|\n",
      "\t _______________________________________________________________\n",
      "\t|\t46-53\t|\t10\t|\t57\t|\t53\t|\n",
      "\t _______________________________________________________________\n",
      "\t|\t53-60\t|\t11\t|\t68\t|\t43\t|\n",
      "\t _______________________________________________________________\n",
      "\t|\t60-67\t|\t10\t|\t78\t|\t32\t|\n",
      "\t _______________________________________________________________\n",
      "\t|\t67-74\t|\t16\t|\t94\t|\t22\t|\n",
      "\t _______________________________________________________________\n",
      "\t|\t74-81\t|\t6\t|\t100\t|\t6\t|\n",
      "\t _______________________________________________________________\n",
      "        |      Mean     | \t 13     |     64     |     54     |\n",
      "\t _______________________________________________________________\n"
     ]
    }
   ],
   "source": [
    "## Less than Cumulative Freq. <\n",
    "## More than Cumulative Freq. >\n",
    "r=0\n",
    "l1=[]\n",
    "sum=0\n",
    "sub=N\n",
    "print(\"*\"*70)\n",
    "print('\\t','_'*63)\n",
    "print(' '*7,'|',' '*7,'X',' '*3,'|','\\t','F',' '*4,'|','\\t','<',' '*4,'|','\\t','>',' '*4,'|')\n",
    "print('\\t','_'*63)\n",
    "for cls,freq in classes :\n",
    "    # \\t\\t X-X \\t\\t X\n",
    "    sum=sum+freq\n",
    "    r=r+freq\n",
    "    print(f\"\\t|\\t{cls[0]}-{cls[1]}\\t|\\t{freq}\\t|\\t{sum}\\t|\\t{sub}\\t|\")\n",
    "    l1.append([sum,sub])\n",
    "    sub=sub-freq\n",
    "    print('\\t',\"_\"*63)\n",
    "aa=0\n",
    "bb=0\n",
    "for i,j in l1:\n",
    "    aa+=i\n",
    "    bb+=j\n",
    "#print(aa,bb)\n",
    "print(' '*7,'|',' '*4,'Mean',' '*3,'|','\\t',round(r/k),' '*3,'|',' '*3,round(aa/k),' '*3,'|',' '*3,round(bb/k),' '*3,'|')\n",
    "print('\\t','_'*63)"
   ]
  },
  {
   "cell_type": "markdown",
   "metadata": {},
   "source": [
    "# Full Code "
   ]
  },
  {
   "cell_type": "code",
   "execution_count": 41,
   "metadata": {},
   "outputs": [
    {
     "name": "stdout",
     "output_type": "stream",
     "text": [
      "Enter number of items : 1000\n",
      "Enter lowest value : 25\n",
      "Enter maximum value : 250\n",
      "[122, 156, 161, 246, 79, 223, 241, 205, 26, 174, 243, 78, 233, 86, 182, 240, 172, 169, 161, 176, 134, 213, 42, 138, 242, 244, 136, 177, 185, 132, 121, 99, 247, 76, 231, 98, 82, 146, 154, 237, 139, 56, 94, 37, 195, 81, 45, 26, 179, 87, 96, 92, 246, 212, 142, 28, 186, 192, 243, 157, 104, 176, 143, 194, 190, 192, 247, 91, 247, 179, 201, 132, 98, 83, 158, 237, 206, 176, 133, 106, 146, 40, 122, 79, 134, 86, 108, 132, 40, 156, 241, 55, 180, 193, 212, 135, 131, 109, 113, 209, 114, 43, 128, 185, 104, 173, 73, 191, 225, 131, 28, 65, 114, 96, 136, 133, 62, 121, 111, 89, 116, 175, 201, 78, 243, 107, 41, 206, 153, 136, 145, 59, 27, 182, 201, 116, 175, 49, 81, 68, 142, 231, 88, 84, 40, 177, 78, 184, 231, 52, 230, 108, 176, 218, 152, 173, 79, 50, 229, 53, 216, 218, 140, 54, 83, 71, 174, 183, 74, 61, 115, 85, 51, 241, 88, 234, 166, 225, 148, 126, 48, 203, 185, 91, 98, 43, 34, 42, 162, 106, 218, 211, 207, 53, 245, 170, 153, 27, 89, 218, 28, 53, 175, 248, 88, 217, 42, 142, 60, 214, 68, 100, 55, 183, 179, 225, 97, 148, 191, 160, 213, 150, 138, 230, 238, 191, 210, 115, 245, 230, 75, 43, 98, 99, 103, 225, 113, 98, 122, 100, 211, 50, 132, 208, 156, 74, 105, 159, 25, 49, 102, 206, 224, 223, 246, 85, 193, 97, 225, 234, 131, 192, 193, 226, 37, 192, 138, 168, 62, 202, 204, 43, 248, 56, 73, 130, 27, 212, 179, 82, 90, 177, 92, 79, 130, 169, 217, 59, 97, 115, 140, 199, 85, 84, 250, 79, 49, 177, 38, 229, 81, 173, 33, 108, 227, 67, 241, 175, 57, 97, 181, 206, 229, 207, 68, 234, 189, 43, 141, 192, 248, 219, 73, 40, 70, 173, 164, 90, 243, 208, 132, 80, 32, 69, 52, 153, 122, 71, 67, 123, 183, 168, 131, 45, 221, 213, 243, 98, 108, 221, 171, 146, 217, 209, 121, 54, 149, 82, 151, 123, 143, 124, 215, 63, 124, 87, 234, 46, 61, 238, 165, 121, 236, 230, 203, 171, 215, 26, 134, 244, 129, 160, 75, 134, 34, 103, 86, 197, 152, 250, 108, 121, 213, 242, 150, 165, 107, 235, 61, 62, 123, 203, 213, 26, 116, 41, 187, 40, 178, 140, 104, 136, 149, 90, 71, 43, 188, 75, 26, 234, 89, 90, 203, 174, 230, 224, 213, 122, 159, 205, 136, 76, 204, 153, 68, 216, 35, 126, 137, 238, 112, 239, 216, 232, 224, 237, 51, 126, 107, 132, 53, 225, 80, 126, 142, 123, 109, 137, 215, 108, 115, 149, 210, 73, 250, 151, 121, 37, 139, 107, 92, 240, 205, 241, 187, 224, 128, 214, 74, 172, 48, 180, 148, 30, 91, 187, 247, 141, 203, 121, 84, 78, 200, 100, 186, 127, 99, 136, 54, 222, 46, 208, 39, 150, 197, 54, 154, 234, 226, 126, 205, 43, 126, 62, 64, 243, 35, 214, 244, 167, 131, 221, 111, 182, 203, 26, 158, 61, 179, 183, 51, 217, 62, 219, 127, 70, 59, 66, 94, 180, 56, 175, 219, 193, 125, 79, 28, 130, 132, 161, 230, 126, 138, 86, 62, 98, 208, 157, 210, 165, 48, 234, 142, 136, 110, 215, 159, 124, 236, 111, 112, 80, 142, 25, 85, 169, 173, 116, 249, 180, 131, 33, 236, 150, 35, 45, 178, 80, 61, 197, 52, 162, 128, 60, 169, 126, 159, 166, 129, 235, 100, 243, 88, 51, 230, 177, 245, 220, 108, 234, 198, 212, 26, 127, 59, 206, 83, 226, 140, 209, 221, 153, 208, 75, 95, 196, 150, 213, 167, 186, 222, 104, 192, 25, 25, 185, 141, 219, 166, 236, 176, 176, 69, 25, 180, 185, 152, 234, 81, 113, 48, 44, 68, 218, 60, 43, 220, 113, 51, 134, 161, 54, 174, 36, 207, 76, 219, 157, 164, 213, 60, 197, 32, 140, 216, 152, 33, 168, 157, 113, 33, 188, 206, 112, 224, 126, 158, 90, 95, 91, 138, 104, 79, 246, 70, 85, 58, 207, 237, 212, 157, 242, 62, 100, 240, 94, 211, 60, 85, 124, 80, 54, 246, 66, 187, 175, 100, 243, 141, 147, 158, 153, 195, 141, 197, 169, 147, 159, 129, 56, 182, 149, 211, 56, 105, 79, 116, 172, 177, 112, 126, 217, 125, 196, 81, 179, 218, 88, 49, 215, 136, 170, 78, 28, 144, 197, 88, 95, 52, 201, 159, 168, 114, 180, 54, 177, 142, 175, 28, 144, 147, 150, 102, 169, 79, 172, 52, 180, 43, 60, 56, 155, 82, 150, 90, 89, 202, 173, 235, 233, 158, 185, 208, 35, 201, 136, 143, 156, 117, 82, 119, 33, 29, 127, 188, 128, 38, 234, 56, 164, 149, 85, 200, 120, 227, 144, 236, 47, 170, 137, 216, 101, 31, 84, 212, 57, 49, 164, 165, 123, 185, 125, 120, 124, 44, 233, 97, 164, 167, 168, 32, 233, 29, 172, 179, 142, 106, 77, 232, 214, 27, 146, 165, 31, 201, 250, 198, 153, 207, 114, 211, 70, 60, 222, 78, 111, 37, 183, 67, 121, 49, 213, 124, 228, 214, 176, 41, 113, 88, 96, 244, 97, 98, 171, 74, 71, 123, 125, 74, 91, 205, 212, 238, 192, 121, 244, 58, 206, 213, 70, 224, 140, 105, 248, 250, 246, 181, 120, 66, 154, 128, 170, 117, 223, 97, 223, 29, 151, 126, 169, 45, 221, 148, 154, 173, 218, 176, 43, 116, 119, 134, 192, 72, 46, 117, 246, 239, 74, 145, 111, 99, 67, 203, 190, 152, 146, 93, 187, 191, 222, 27, 96, 177, 144, 84, 147, 201, 152, 187, 224, 27, 242, 78, 138, 185, 59, 97, 46, 176, 95, 63, 110, 90, 67, 203, 205, 38, 114, 133, 157, 72, 232, 180, 156, 204, 47, 70, 194, 241, 85, 173, 236, 195, 98, 132, 196, 193, 92, 132, 246]\n",
      "No of Observation N  :  1000\n",
      "Range R :  225\n",
      "No of Classess k :   10.966000000000001\n",
      "Width of a class :  20.5179646179099\n",
      "**********************************************************************\n",
      "\t _______________________________________________________________\n",
      "        |         X     | \t F      | \t <      | \t >      |\n",
      "\t _______________________________________________________________\n",
      "\t|\t25-46\t|\t80\t|\t80\t|\t1000\t|\n",
      "\t _______________________________________________________________\n",
      "\t|\t46-67\t|\t83\t|\t163\t|\t920\t|\n",
      "\t _______________________________________________________________\n",
      "\t|\t67-88\t|\t95\t|\t258\t|\t837\t|\n",
      "\t _______________________________________________________________\n",
      "\t|\t88-109\t|\t93\t|\t351\t|\t742\t|\n",
      "\t _______________________________________________________________\n",
      "\t|\t109-130\t|\t95\t|\t446\t|\t649\t|\n",
      "\t _______________________________________________________________\n",
      "\t|\t130-151\t|\t101\t|\t547\t|\t554\t|\n",
      "\t _______________________________________________________________\n",
      "\t|\t151-172\t|\t86\t|\t633\t|\t453\t|\n",
      "\t _______________________________________________________________\n",
      "\t|\t172-193\t|\t105\t|\t738\t|\t367\t|\n",
      "\t _______________________________________________________________\n",
      "\t|\t193-214\t|\t96\t|\t834\t|\t262\t|\n",
      "\t _______________________________________________________________\n",
      "\t|\t214-235\t|\t96\t|\t930\t|\t166\t|\n",
      "\t _______________________________________________________________\n",
      "\t|\t235-256\t|\t70\t|\t1000\t|\t70\t|\n",
      "\t _______________________________________________________________\n",
      "        |      Mean     | \t 91     |     545     |     549     |\n",
      "\t _______________________________________________________________\n"
     ]
    }
   ],
   "source": [
    "import math \n",
    "import random\n",
    "# Data Collection \n",
    "N = int(input(\"Enter number of items : \"))\n",
    "minimum = eval(input(\"Enter lowest value : \"))\n",
    "maximum = eval(input(\"Enter maximum value : \"))\n",
    "data = [ random.randint(minimum,maximum) for var in range(N) ]\n",
    "print(data)\n",
    "\n",
    "R = maximum - minimum\n",
    "N = N \n",
    "k = 1 + (3.322*math.log10(N))\n",
    "c = R / k \n",
    "print(\"No of Observation N  : \",N)\n",
    "print(\"Range R : \",R)\n",
    "print(\"No of Classess k :  \",k)\n",
    "print(\"Width of a class : \",c)\n",
    "\n",
    "classes = []\n",
    "lower = minimum\n",
    "for var in range(math.ceil(k)) :\n",
    "    upper = lower + math.ceil(c)\n",
    "    tmp = [ lower,upper]\n",
    "    freq = 0 \n",
    "    for item in range(lower,upper) :\n",
    "        freq += data.count(item)\n",
    "    lower = lower + math.ceil(c)\n",
    "    classes.append((tmp,freq))\n",
    "\n",
    "r=0\n",
    "l1=[]\n",
    "sum=0\n",
    "sub=N\n",
    "print(\"*\"*70)\n",
    "print('\\t','_'*63)\n",
    "print(' '*7,'|',' '*7,'X',' '*3,'|','\\t','F',' '*4,'|','\\t','<',' '*4,'|','\\t','>',' '*4,'|')\n",
    "print('\\t','_'*63)\n",
    "for cls,freq in classes :\n",
    "    # \\t\\t X-X \\t\\t X\n",
    "    sum=sum+freq\n",
    "    r=r+freq\n",
    "    print(f\"\\t|\\t{cls[0]}-{cls[1]}\\t|\\t{freq}\\t|\\t{sum}\\t|\\t{sub}\\t|\")\n",
    "    l1.append([sum,sub])\n",
    "    sub=sub-freq\n",
    "    print('\\t',\"_\"*63)\n",
    "aa=0\n",
    "bb=0\n",
    "for i,j in l1:\n",
    "    aa+=i\n",
    "    bb+=j\n",
    "#print(aa,bb)\n",
    "print(' '*7,'|',' '*4,'Mean',' '*3,'|','\\t',round(r/k),' '*3,'|',' '*3,round(aa/k),' '*3,'|',' '*3,round(bb/k),' '*3,'|')\n",
    "print('\\t','_'*63)"
   ]
  },
  {
   "cell_type": "markdown",
   "metadata": {},
   "source": [
    "# Plot Data Using pylab"
   ]
  },
  {
   "cell_type": "code",
   "execution_count": 6,
   "metadata": {},
   "outputs": [
    {
     "name": "stdout",
     "output_type": "stream",
     "text": [
      "Enter number of items : 100\n",
      "Enter lowest value : 45\n",
      "Enter maximum value : 78\n"
     ]
    }
   ],
   "source": [
    "import pylab\n",
    "import math \n",
    "import random\n",
    "\n",
    "# Data Collection \n",
    "N = int(input(\"Enter number of items : \"))\n",
    "minimum = eval(input(\"Enter lowest value : \"))\n",
    "maximum = eval(input(\"Enter maximum value : \"))\n",
    "data = [ random.randint(minimum,maximum) for var in range(N) ]\n"
   ]
  },
  {
   "cell_type": "code",
   "execution_count": 13,
   "metadata": {},
   "outputs": [
    {
     "data": {
      "image/png": "[encoded data removed]",
      "text/plain": [
       "<Figure size 432x288 with 1 Axes>"
      ]
     },
     "metadata": {
      "needs_background": "light"
     },
     "output_type": "display_data"
    }
   ],
   "source": [
    "pylab.hist(data,bins=20,edgecolor='black')\n",
    "pylab.show()"
   ]
  },
  {
   "cell_type": "code",
   "execution_count": 14,
   "metadata": {},
   "outputs": [
    {
     "data": {
      "image/png": "[encoded data removed]",
      "text/plain": [
       "<Figure size 432x288 with 1 Axes>"
      ]
     },
     "metadata": {
      "needs_background": "light"
     },
     "output_type": "display_data"
    }
   ],
   "source": [
    "x  = [ 1,2,3,4,5,6,7 ]\n",
    "y = [ 10,20,30,40,30,20,10]\n",
    "x1 = [2, 6]\n",
    "y1 = [20,20]\n",
    "pylab.plot(x,y,c='r')\n",
    "pylab.scatter(x,y)\n",
    "pylab.plot(x1,y1,c='g')\n",
    "pylab.show()"
   ]
  },
  {
   "cell_type": "code",
   "execution_count": null,
   "metadata": {},
   "outputs": [],
   "source": []
  }
 ],
 "metadata": {
  "kernelspec": {
   "display_name": "Python 3",
   "language": "python",
   "name": "python3"
  },
  "language_info": {
   "codemirror_mode": {
    "name": "ipython",
    "version": 3
   },
   "file_extension": ".py",
   "mimetype": "text/x-python",
   "name": "python",
   "nbconvert_exporter": "python",
   "pygments_lexer": "ipython3",
   "version": "3.7.3"
  }
 },
 "nbformat": 4,
 "nbformat_minor": 2
}
